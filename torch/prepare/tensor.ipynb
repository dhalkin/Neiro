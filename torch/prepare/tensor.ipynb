{
 "cells": [
  {
   "cell_type": "code",
   "execution_count": null,
   "id": "f6ff6539",
   "metadata": {},
   "outputs": [],
   "source": [
    "import torch"
   ]
  },
  {
   "cell_type": "code",
   "execution_count": 6,
   "id": "ce267c53",
   "metadata": {},
   "outputs": [
    {
     "name": "stdout",
     "output_type": "stream",
     "text": [
      "tensor([1, 2, 3, 4, 5])\n",
      "tensor([[0., 0., 0.],\n",
      "        [0., 0., 0.]])\n",
      "tensor([[0., 0., 0.],\n",
      "        [0., 0., 0.]])\n",
      "tensor([[1., 1., 1.],\n",
      "        [1., 1., 1.]])\n",
      "tensor([0., 2., 4., 6., 8.])\n",
      "torch.Size([5])\n",
      "torch.float32\n"
     ]
    }
   ],
   "source": [
    "t = torch.tensor([1, 2, 3, 4, 5])\n",
    "print(t)\n",
    "\n",
    "t1 = torch.empty([2, 3], dtype=torch.float32)\n",
    "print(t1)\n",
    "\n",
    "t2 = torch.zeros([2, 3], dtype=torch.float32)\n",
    "print(t2)\n",
    "\n",
    "t3 = torch.ones([2, 3], dtype=torch.float32)\n",
    "print(t3)\n",
    "\n",
    "t4 = torch.arange(0, 10, 2, dtype=torch.float32)\n",
    "print(t4)\n",
    "\n",
    "print(t4.shape)\n",
    "print(t4.dtype)\n"
   ]
  },
  {
   "cell_type": "code",
   "execution_count": 9,
   "id": "38eae701",
   "metadata": {},
   "outputs": [
    {
     "name": "stdout",
     "output_type": "stream",
     "text": [
      "tensor([[1., 2., 3.],\n",
      "        [4., 5., 6.]])\n",
      "torch.Size([2, 3])\n",
      "torch.float32\n",
      "tensor(2.)\n",
      "2\n"
     ]
    }
   ],
   "source": [
    "t5 = torch.tensor([[1, 2, 3], [4, 5, 6]], dtype=torch.float32)\n",
    "print(t5)\n",
    "print(t5.shape)\n",
    "print(t5.dtype)\n",
    "print(t5[0, 1])  # Accessing element at row 0, column 1\n",
    "print(t5.dim())  # Accessing the number of dimensions"
   ]
  }
 ],
 "metadata": {
  "kernelspec": {
   "display_name": ".venv",
   "language": "python",
   "name": "python3"
  },
  "language_info": {
   "codemirror_mode": {
    "name": "ipython",
    "version": 3
   },
   "file_extension": ".py",
   "mimetype": "text/x-python",
   "name": "python",
   "nbconvert_exporter": "python",
   "pygments_lexer": "ipython3",
   "version": "3.12.7"
  }
 },
 "nbformat": 4,
 "nbformat_minor": 5
}
