{
 "cells": [
  {
   "cell_type": "code",
   "execution_count": 1,
   "id": "0fcd2a7c",
   "metadata": {},
   "outputs": [],
   "source": [
    "import torch\n",
    "import torch.nn as nn\n",
    "import torch.optim as optim\n",
    "import torch.nn.functional as F\n",
    "\n",
    "from random import randint\n",
    "import matplotlib.pyplot as plt"
   ]
  },
  {
   "cell_type": "code",
   "execution_count": 2,
   "id": "981a5e88",
   "metadata": {},
   "outputs": [],
   "source": [
    "class NetGirl(nn.Module):\n",
    "    def __init__(self, input_dim, num_hidden, output_dim):\n",
    "        super().__init__()\n",
    "        self.layer1 = nn.Linear(input_dim, num_hidden)\n",
    "        self.layer2 = nn.Linear(num_hidden, output_dim)\n",
    "\n",
    "    def forward(self, x):\n",
    "        x = self.layer1(x)\n",
    "        x = F.tanh(x)\n",
    "        x = self.layer2(x)\n",
    "        x = F.tanh(x)\n",
    "        return x"
   ]
  },
  {
   "cell_type": "code",
   "execution_count": 4,
   "id": "e12c1bb2",
   "metadata": {},
   "outputs": [
    {
     "name": "stdout",
     "output_type": "stream",
     "text": [
      "NetGirl(\n",
      "  (layer1): Linear(in_features=3, out_features=2, bias=True)\n",
      "  (layer2): Linear(in_features=2, out_features=1, bias=True)\n",
      ")\n",
      "[Parameter containing:\n",
      "tensor([[ 0.3469, -0.3591,  0.2624],\n",
      "        [-0.1840, -0.0843,  0.3818]], requires_grad=True), Parameter containing:\n",
      "tensor([-0.2679,  0.3504], requires_grad=True), Parameter containing:\n",
      "tensor([[0.0326, 0.1305]], requires_grad=True), Parameter containing:\n",
      "tensor([-0.0520], requires_grad=True)]\n",
      "torch.Size([8, 3])\n",
      "torch.Size([8, 1])\n"
     ]
    }
   ],
   "source": [
    "model = NetGirl(3, 2, 1)\n",
    "print(model)\n",
    "print(list(model.parameters()))\n",
    "\n",
    "# обучающая выборка (она же полная выборка)\n",
    "x_train = torch.FloatTensor([(-1, -1, -1), (-1, -1, 1), (-1, 1, -1), (-1, 1, 1),\n",
    "                            (1, -1, -1), (1, -1, 1), (1, 1, -1), (1, 1, 1)])\n",
    "y_train = torch.FloatTensor([-1, 1, -1, 1, -1, 1, -1, -1]).unsqueeze(1)  # Reshape to [8, 1]\n",
    "total = len(y_train)\n",
    "\n",
    "\n",
    "print(x_train.shape)\n",
    "print(y_train.shape)"
   ]
  },
  {
   "cell_type": "code",
   "execution_count": null,
   "id": "1ee7443e",
   "metadata": {},
   "outputs": [],
   "source": [
    "\n",
    "optimizer = optim.RMSprop(params=model.parameters(), lr=0.01)\n",
    "loss_func = torch.nn.MSELoss()\n",
    "\n",
    "model.train()\n",
    "\n",
    "for _ in range(1000):\n",
    "    k = randint(0, total-1)\n",
    "    y = model(x_train[k])\n",
    "    loss = loss_func(y, y_train[k])\n",
    "\n",
    "    print(f\"Итерация {_+1}, номер {k+1}, ошибка: {loss.data.item():.4f}\")\n",
    "    optimizer.zero_grad()\n",
    "    loss.backward()\n",
    "    optimizer.step()\n",
    "\n",
    "model.eval()\n",
    "\n",
    "# тестирование обученной НС\n",
    "for x, d in zip(x_train, y_train):\n",
    "    with torch.no_grad():\n",
    "        y = model(x)\n",
    "        print(f\"Выходное значение НС: {y.data.item():.4f} => {d.item():.4f}\")"
   ]
  }
 ],
 "metadata": {
  "kernelspec": {
   "display_name": ".venv",
   "language": "python",
   "name": "python3"
  },
  "language_info": {
   "codemirror_mode": {
    "name": "ipython",
    "version": 3
   },
   "file_extension": ".py",
   "mimetype": "text/x-python",
   "name": "python",
   "nbconvert_exporter": "python",
   "pygments_lexer": "ipython3",
   "version": "3.12.7"
  }
 },
 "nbformat": 4,
 "nbformat_minor": 5
}
